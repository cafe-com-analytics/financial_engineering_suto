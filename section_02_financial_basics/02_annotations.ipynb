{
 "metadata": {
  "language_info": {
   "codemirror_mode": {
    "name": "ipython",
    "version": 3
   },
   "file_extension": ".py",
   "mimetype": "text/x-python",
   "name": "python",
   "nbconvert_exporter": "python",
   "pygments_lexer": "ipython3",
   "version": "3.7.9-final"
  },
  "orig_nbformat": 2,
  "kernelspec": {
   "name": "python3",
   "display_name": "Python 3.7.9 64-bit ('venv')",
   "metadata": {
    "interpreter": {
     "hash": "bd002647307efd425b8fb57699cfef6e39d98315fb0b6efb55db755ad456bb56"
    }
   }
  }
 },
 "nbformat": 4,
 "nbformat_minor": 2,
 "cells": [
  {
   "source": [
    "# Section 02 - Financial engineering basics\n",
    "\n",
    "\n",
    "* What is financial data?\n",
    "* Stock returns\n",
    "* Stock returns modeling\n",
    "* QQ plot\n",
    "* Hypothesis testing\n",
    "* Skewness, kurtosis, correlation, covariance\n",
    "* Gaussian mixtures\n",
    "* Volatility clustering\n",
    "* Price simulation\n",
    "\n",
    "## Financial data\n",
    "\n",
    "1. Sources:\n",
    "- [Quandl](https://www.quandl.com/)\n",
    "- [pandas-datareader](https://pandas-datareader.readthedocs.io/en/latest/)\n",
    "- [Yahoo! Finance](https://pypi.org/project/yfinance/)\n"
   ],
   "cell_type": "markdown",
   "metadata": {}
  },
  {
   "cell_type": "code",
   "execution_count": null,
   "metadata": {},
   "outputs": [],
   "source": [
    "f = 'data/raw/MM.csv'\n",
    "\n",
    "f.split('/')[-1].split('.')[0]"
   ]
  }
 ]
}