{
 "metadata": {
  "language_info": {
   "codemirror_mode": {
    "name": "ipython",
    "version": 3
   },
   "file_extension": ".py",
   "mimetype": "text/x-python",
   "name": "python",
   "nbconvert_exporter": "python",
   "pygments_lexer": "ipython3",
   "version": "3.7.9-final"
  },
  "orig_nbformat": 2,
  "kernelspec": {
   "name": "python3",
   "display_name": "Python 3.7.9 64-bit ('venv')",
   "metadata": {
    "interpreter": {
     "hash": "bd002647307efd425b8fb57699cfef6e39d98315fb0b6efb55db755ad456bb56"
    }
   }
  }
 },
 "nbformat": 4,
 "nbformat_minor": 2,
 "cells": [
  {
   "source": [
    "# Section 02 - Financial engineering basics\n",
    "\n",
    "\n",
    "* What is financial data?\n",
    "* Stock returns modeling\n",
    "* QQ plot\n",
    "* Hypothesis testing\n",
    "* Skewness, kurtosis, correlation, covariance\n",
    "* Gaussian mixtures\n",
    "* Volatility clustering\n",
    "* Price simulation\n",
    "\n",
    "## Financial data\n",
    "\n",
    "1. Sources:\n",
    "- [Quandl](https://www.quandl.com/)\n",
    "- [pandas-datareader](https://pandas-datareader.readthedocs.io/en/latest/)\n",
    "- [Yahoo! Finance](https://pypi.org/project/yfinance/)\n"
   ],
   "cell_type": "markdown",
   "metadata": {}
  },
  {
   "source": [
    "## Stock returns modeling\n",
    "\n",
    "### Stock returns (or net return)\n",
    "\n",
    "$ R_{t} = \\frac{Price_{Final} - Price_{Initial}}{Price_{Initial}}$\n",
    "\n",
    "$ R_{t} = \\frac{P_{t} - P_{t-1}}{P_{t-1}}$\n",
    "\n",
    "$ R_{t} = \\frac{P_{t}}{P_{t-1}}-1 $, t = specific time\n",
    "\n",
    "\n",
    "### Simple gross return\n",
    "\n",
    "$ 1 + R_{t} = \\frac{P_{t}}{P_{t-1}} $, $1 + R_{t} =$ simple gross return.\n",
    "\n",
    "\n",
    "### Log return (log of gross return, also called *continuously compounded return*)\n",
    "\n",
    "$ r_{t} = 1 + R_{t} = log\\left(\\frac{P_{t}}{P_{t-1}}\\right) = log P_{t} - log P_{t-1} $\n",
    "\n",
    "**Important!** sometimes it will be used the following convection: $ p_{t} =  log P_{t}$\n",
    "\n",
    "Therefore, $ r_{t} = p_{t} - p_{t-1} $\n",
    "\n",
    "- returns are very small\n",
    "- financial engineers use ***basis points*** (1/100 of a percent, or 1% of 1%)\n",
    "- when x is very small $ \\Rightarrow x \\approx log(x+1) $\n",
    "\n",
    "### Cumulative returns\n",
    "\n",
    "* Given: $ R_{1}, R_{2},..., R_{252}, P_{0}$\n",
    "* Want: Given: $ P_{252}$\n",
    "\n",
    "* Answer:\n",
    "\n",
    "$ P_{252} =  P_{0}(1+R_{1})(1+R_{2})...(1+R_{252})$\n",
    "\n",
    "$ P_{252} =  P_{0}(1+R)^{252} $, where $R$ is the mean return in that period.\n",
    "\n",
    "$ P_{0}(1+R)^{252} = P_{0}(1+R_{1})(1+R_{2})...(1+R_{252}) $\n",
    "\n",
    "Solving for $R$,\n",
    "\n",
    "$ R = \\left( \\prod_{i=1}^{252}(1+R_{i}) \\right)^{1/252}-1$\n",
    "\n",
    "Using log,\n",
    "\n",
    "$ P_{0}(1+R)^{252} = P_{0}(1+R_{1})(1+R_{2})...(1+R_{252}) $\n",
    "\n",
    "$ 252 * log(1+R) = \\sum_{i=1}^{252}log(1+R_{i}) $\n",
    "\n",
    "$ r = \\frac{1}{252} \\sum_{i=1}^{252} r_{i} $\n",
    "\n",
    "\n",
    "### Adjusted close\n",
    "\n",
    "*\"it accounts for ***stock splits*** and ***dividends***.\"*"
   ],
   "cell_type": "markdown",
   "metadata": {}
  },
  {
   "source": [],
   "cell_type": "markdown",
   "metadata": {}
  },
  {
   "cell_type": "code",
   "execution_count": null,
   "metadata": {},
   "outputs": [],
   "source": []
  }
 ]
}